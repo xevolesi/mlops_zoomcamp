{
 "cells": [
  {
   "cell_type": "code",
   "execution_count": 1,
   "id": "01b106a0",
   "metadata": {},
   "outputs": [],
   "source": [
    "import pandas as pd\n",
    "import numpy as np\n",
    "import seaborn as sns\n",
    "from matplotlib import pyplot as plt\n",
    "%matplotlib inline"
   ]
  },
  {
   "cell_type": "code",
   "execution_count": 2,
   "id": "b6ff6a7e",
   "metadata": {},
   "outputs": [],
   "source": [
    "JAN_DATA = \"data/fhv_tripdata_2021-01.parquet\"\n",
    "FEB_DATA = \"data/fhv_tripdata_2021-02.parquet\"\n",
    "\n",
    "\n",
    "jan_data = pd.read_parquet(JAN_DATA)\n",
    "feb_data = pd.read_parquet(FEB_DATA)"
   ]
  },
  {
   "cell_type": "markdown",
   "id": "03761453",
   "metadata": {},
   "source": [
    "# Q1 Downloading the data\n",
    "We'll use the same NYC taxi dataset, but instead of \"Green Taxi Trip Records\", we'll use \"For-Hire Vehicle Trip Records\".\n",
    "\n",
    "Download the data for January and February 2021.\n",
    "\n",
    "Note that you need \"For-Hire Vehicle Trip Records\", not \"High Volume For-Hire Vehicle Trip Records\".\n",
    "\n",
    "Read the data for January. How many records are there?\n",
    "\n",
    " - 1054112\n",
    " - 1154112\n",
    " - 1254112\n",
    " - 1354112"
   ]
  },
  {
   "cell_type": "code",
   "execution_count": 3,
   "id": "9970b3be",
   "metadata": {},
   "outputs": [
    {
     "data": {
      "text/plain": [
       "(1154112, 7)"
      ]
     },
     "execution_count": 3,
     "metadata": {},
     "output_type": "execute_result"
    }
   ],
   "source": [
    "jan_data.shape"
   ]
  },
  {
   "cell_type": "markdown",
   "id": "f30e20fe",
   "metadata": {},
   "source": [
    "# Q2\n",
    "\n",
    "Now let's compute the duration variable. It should contain the duration of a ride in minutes.\n",
    "\n",
    "What's the average trip duration in January?"
   ]
  },
  {
   "cell_type": "code",
   "execution_count": 4,
   "id": "6e89d43b",
   "metadata": {},
   "outputs": [],
   "source": [
    "jan_data[\"duration\"] = (jan_data[\"dropOff_datetime\"] - jan_data[\"pickup_datetime\"]).dt.total_seconds() / 60"
   ]
  },
  {
   "cell_type": "code",
   "execution_count": 5,
   "id": "ca6149da",
   "metadata": {},
   "outputs": [
    {
     "data": {
      "text/plain": [
       "19.167224093791006"
      ]
     },
     "execution_count": 5,
     "metadata": {},
     "output_type": "execute_result"
    }
   ],
   "source": [
    "jan_data[\"duration\"].mean()"
   ]
  },
  {
   "cell_type": "markdown",
   "id": "ed2fb800",
   "metadata": {},
   "source": [
    "# Data preparation\n",
    "\n",
    "Check the distribution of the duration variable. There are some outliers.\n",
    "\n",
    "Let's remove them and keep only the records where the duration was between 1 and 60 minutes (inclusive).\n",
    "\n",
    "How many records did you drop?"
   ]
  },
  {
   "cell_type": "code",
   "execution_count": 6,
   "id": "5ac36daf",
   "metadata": {},
   "outputs": [
    {
     "data": {
      "text/plain": [
       "<AxesSubplot:xlabel='duration'>"
      ]
     },
     "execution_count": 6,
     "metadata": {},
     "output_type": "execute_result"
    },
    {
     "data": {
      "image/png": "[encoded data removed]",
      "text/plain": [
       "<Figure size 432x288 with 1 Axes>"
      ]
     },
     "metadata": {
      "needs_background": "light"
     },
     "output_type": "display_data"
    }
   ],
   "source": [
    "sns.boxplot(data=jan_data, x=\"duration\")"
   ]
  },
  {
   "cell_type": "code",
   "execution_count": 7,
   "id": "8d53a7b3",
   "metadata": {},
   "outputs": [],
   "source": [
    "filtered_jan_data = jan_data.query(\"duration >= 1 and duration <= 60\")"
   ]
  },
  {
   "cell_type": "code",
   "execution_count": 8,
   "id": "b86c0a9c",
   "metadata": {},
   "outputs": [
    {
     "data": {
      "text/plain": [
       "44286"
      ]
     },
     "execution_count": 8,
     "metadata": {},
     "output_type": "execute_result"
    }
   ],
   "source": [
    "jan_data.shape[0] - filtered_jan_data.shape[0]"
   ]
  },
  {
   "cell_type": "markdown",
   "id": "b6a192b2",
   "metadata": {},
   "source": [
    "# Q3. Missing values\n",
    "\n",
    "The features we'll use for our model are the pickup and dropoff location IDs.\n",
    "\n",
    "But they have a lot of missing values there. Let's replace them with \"-1\".\n",
    "\n",
    "What's the fractions of missing values for the pickup location ID? I.e. fraction of \"-1\"s after you filled the NAs.\n",
    "\n",
    " - 53%\n",
    " - 63%\n",
    " - 73%\n",
    " - 83%"
   ]
  },
  {
   "cell_type": "code",
   "execution_count": 9,
   "id": "24d15dfd",
   "metadata": {},
   "outputs": [
    {
     "data": {
      "text/plain": [
       "(0.8352732770722617, 0.13327044059158824)"
      ]
     },
     "execution_count": 9,
     "metadata": {},
     "output_type": "execute_result"
    }
   ],
   "source": [
    "(\n",
    "    filtered_jan_data[\"PUlocationID\"].isna().sum()/len(filtered_jan_data),\n",
    "    filtered_jan_data[\"DOlocationID\"].isna().sum()/len(filtered_jan_data)\n",
    ")"
   ]
  },
  {
   "cell_type": "code",
   "execution_count": 10,
   "id": "5e5aebe3",
   "metadata": {},
   "outputs": [
    {
     "name": "stderr",
     "output_type": "stream",
     "text": [
      "/var/folders/xz/lh8h89515p57_vpg0mgc_ddc0000gn/T/ipykernel_76899/120719750.py:1: SettingWithCopyWarning: \n",
      "A value is trying to be set on a copy of a slice from a DataFrame\n",
      "\n",
      "See the caveats in the documentation: https://pandas.pydata.org/pandas-docs/stable/user_guide/indexing.html#returning-a-view-versus-a-copy\n",
      "  filtered_jan_data[\"PUlocationID\"].fillna(-1, inplace=True)\n"
     ]
    }
   ],
   "source": [
    "filtered_jan_data[\"PUlocationID\"].fillna(-1, inplace=True)"
   ]
  },
  {
   "cell_type": "code",
   "execution_count": 11,
   "id": "1b033062",
   "metadata": {},
   "outputs": [
    {
     "name": "stderr",
     "output_type": "stream",
     "text": [
      "/var/folders/xz/lh8h89515p57_vpg0mgc_ddc0000gn/T/ipykernel_76899/2222967443.py:1: SettingWithCopyWarning: \n",
      "A value is trying to be set on a copy of a slice from a DataFrame\n",
      "\n",
      "See the caveats in the documentation: https://pandas.pydata.org/pandas-docs/stable/user_guide/indexing.html#returning-a-view-versus-a-copy\n",
      "  filtered_jan_data[\"DOlocationID\"].fillna(-1, inplace=True)\n"
     ]
    }
   ],
   "source": [
    "filtered_jan_data[\"DOlocationID\"].fillna(-1, inplace=True)"
   ]
  },
  {
   "cell_type": "code",
   "execution_count": 12,
   "id": "287ac424",
   "metadata": {},
   "outputs": [],
   "source": [
    "assert not filtered_jan_data[\"DOlocationID\"].isna().all() and not filtered_jan_data[\"PUlocationID\"].isna().all()"
   ]
  },
  {
   "cell_type": "code",
   "execution_count": 15,
   "id": "7fff70f9",
   "metadata": {},
   "outputs": [],
   "source": [
    "def prepare_dataframe(raw_data: pd.DataFrame) -> pd.DataFrame:\n",
    "    data = raw_data.copy()\n",
    "    \n",
    "    # Translate data columns to datetimes.\n",
    "    data[\"pickup_datetime\"] = pd.to_datetime(data[\"pickup_datetime\"])\n",
    "    data[\"dropOff_datetime\"] = pd.to_datetime(data[\"dropOff_datetime\"])\n",
    "    \n",
    "    # Compute duration time in minutes.\n",
    "    data[\"duration\"] = (data[\"dropOff_datetime\"] - data[\"pickup_datetime\"]).dt.total_seconds() / 60\n",
    "    \n",
    "    # Filter data by duration.\n",
    "    data = data.query(\"duration >= 1 and duration <= 60\")\n",
    "    assert (data[\"duration\"] >= 1).all() and (data[\"duration\"] <= 60).all()\n",
    "    \n",
    "    # Fill NaN's.\n",
    "    data[\"PUlocationID\"].fillna(-1, inplace=True)\n",
    "    data[\"DOlocationID\"].fillna(-1, inplace=True)\n",
    "    assert not data[\"DOlocationID\"].isna().all() and not data[\"PUlocationID\"].isna().all()\n",
    "    return data"
   ]
  },
  {
   "cell_type": "code",
   "execution_count": 16,
   "id": "480371de",
   "metadata": {},
   "outputs": [
    {
     "name": "stderr",
     "output_type": "stream",
     "text": [
      "/var/folders/xz/lh8h89515p57_vpg0mgc_ddc0000gn/T/ipykernel_76899/3759886052.py:16: SettingWithCopyWarning: \n",
      "A value is trying to be set on a copy of a slice from a DataFrame\n",
      "\n",
      "See the caveats in the documentation: https://pandas.pydata.org/pandas-docs/stable/user_guide/indexing.html#returning-a-view-versus-a-copy\n",
      "  data[\"PUlocationID\"].fillna(-1, inplace=True)\n",
      "/var/folders/xz/lh8h89515p57_vpg0mgc_ddc0000gn/T/ipykernel_76899/3759886052.py:17: SettingWithCopyWarning: \n",
      "A value is trying to be set on a copy of a slice from a DataFrame\n",
      "\n",
      "See the caveats in the documentation: https://pandas.pydata.org/pandas-docs/stable/user_guide/indexing.html#returning-a-view-versus-a-copy\n",
      "  data[\"DOlocationID\"].fillna(-1, inplace=True)\n",
      "/var/folders/xz/lh8h89515p57_vpg0mgc_ddc0000gn/T/ipykernel_76899/3759886052.py:16: SettingWithCopyWarning: \n",
      "A value is trying to be set on a copy of a slice from a DataFrame\n",
      "\n",
      "See the caveats in the documentation: https://pandas.pydata.org/pandas-docs/stable/user_guide/indexing.html#returning-a-view-versus-a-copy\n",
      "  data[\"PUlocationID\"].fillna(-1, inplace=True)\n",
      "/var/folders/xz/lh8h89515p57_vpg0mgc_ddc0000gn/T/ipykernel_76899/3759886052.py:17: SettingWithCopyWarning: \n",
      "A value is trying to be set on a copy of a slice from a DataFrame\n",
      "\n",
      "See the caveats in the documentation: https://pandas.pydata.org/pandas-docs/stable/user_guide/indexing.html#returning-a-view-versus-a-copy\n",
      "  data[\"DOlocationID\"].fillna(-1, inplace=True)\n"
     ]
    }
   ],
   "source": [
    "jan_data = prepare_dataframe(jan_data)\n",
    "feb_data = prepare_dataframe(feb_data)"
   ]
  },
  {
   "cell_type": "markdown",
   "id": "7668f68a",
   "metadata": {},
   "source": [
    "# Q4. One-hot encoding\n",
    "\n",
    "Let's apply one-hot encoding to the pickup and dropoff location IDs. We'll use only these two features for our model.\n",
    "\n",
    "Turn the dataframe into a list of dictionaries\n",
    "\n",
    "Fit a dictionary vectorizer\n",
    "\n",
    "Get a feature matrix from it\n",
    "\n",
    "What's the dimensionality of this matrix? (The number of columns).\n",
    "\n",
    "- 2\n",
    "- 152\n",
    "- 352\n",
    "- 525\n",
    "- 725"
   ]
  },
  {
   "cell_type": "code",
   "execution_count": 17,
   "id": "9b8c661d",
   "metadata": {},
   "outputs": [
    {
     "name": "stdout",
     "output_type": "stream",
     "text": [
      "Design matrix dims: (1109826, 2)\n",
      "Design matrix dims: (990113, 2)\n"
     ]
    }
   ],
   "source": [
    "from sklearn.feature_extraction import DictVectorizer\n",
    "\n",
    "\n",
    "def get_x_and_y(data: pd.DataFrame, cat_features: list[str]) -> tuple[np.ndarray, np.ndarray]:\n",
    "    vectorizer = DictVectorizer()\n",
    "    train_dicts = data[cat_features].to_dict(orient='records')\n",
    "    x = vectorizer.fit_transform(train_dicts)\n",
    "    print(\"Design matrix dims:\", x.shape)\n",
    "    y = data[\"duration\"].values\n",
    "    return x, y\n",
    "\n",
    "\n",
    "X_train, y_train = get_x_and_y(jan_data, cat_features=[\"DOlocationID\", \"PUlocationID\"])\n",
    "X_test, y_test = get_x_and_y(feb_data, cat_features=[\"DOlocationID\", \"PUlocationID\"])"
   ]
  },
  {
   "cell_type": "markdown",
   "id": "112a7909",
   "metadata": {},
   "source": [
    "# Q5. Training a model\n",
    "\n",
    "Now let's use the feature matrix from the previous step to train a model.\n",
    "\n",
    "Train a plain linear regression model with default parameters\n",
    "\n",
    "Calculate the RMSE of the model on the training data\n",
    "\n",
    "What's the RMSE on train?\n",
    "\n",
    "5.52\n",
    "10.52\n",
    "15.52\n",
    "20.52\n",
    "\n",
    "# Q6. Evaluating the model\n",
    "Now let's apply this model to the validation dataset (Feb 2021).\n",
    "\n",
    "What's the RMSE on validation?\n",
    "\n",
    "6.01\n",
    "11.01\n",
    "16.01\n",
    "21.01"
   ]
  },
  {
   "cell_type": "code",
   "execution_count": 21,
   "id": "4dd4f572",
   "metadata": {},
   "outputs": [
    {
     "name": "stdout",
     "output_type": "stream",
     "text": [
      "Train: 11.415432830521663, val: 11.85822362355935\n"
     ]
    }
   ],
   "source": [
    "from sklearn.linear_model import LinearRegression\n",
    "from sklearn.metrics import mean_squared_error\n",
    "\n",
    "\n",
    "def train_and_validate(\n",
    "    X_train: np.ndarray,\n",
    "    y_train: np.ndarray,\n",
    "    X_val: np.ndarray,\n",
    "    y_val: np.ndarray\n",
    ") -> tuple[float, float]:\n",
    "    lr = LinearRegression()\n",
    "    lr.fit(X_train, y_train)\n",
    "    train_score = mean_squared_error(y_train, lr.predict(X_train), squared=False)\n",
    "    val_score = mean_squared_error(y_val, lr.predict(X_val), squared=False)\n",
    "    return train_score, val_score\n",
    "\n",
    "\n",
    "print(\"Train: {}, val: {}\".format(*train_and_validate(X_train, y_train, X_test, y_test)))"
   ]
  },
  {
   "cell_type": "code",
   "execution_count": null,
   "id": "a3012568",
   "metadata": {},
   "outputs": [],
   "source": []
  }
 ],
 "metadata": {
  "kernelspec": {
   "display_name": "Python 3 (ipykernel)",
   "language": "python",
   "name": "python3"
  },
  "language_info": {
   "codemirror_mode": {
    "name": "ipython",
    "version": 3
   },
   "file_extension": ".py",
   "mimetype": "text/x-python",
   "name": "python",
   "nbconvert_exporter": "python",
   "pygments_lexer": "ipython3",
   "version": "3.9.12"
  }
 },
 "nbformat": 4,
 "nbformat_minor": 5
}
